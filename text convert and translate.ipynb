{
 "cells": [
  {
   "cell_type": "code",
   "execution_count": 30,
   "metadata": {
    "collapsed": true,
    "pycharm": {
     "is_executing": false
    }
   },
   "outputs": [
    {
     "name": "stdout",
     "text": [
      "Requirement already satisfied: ibm_watson in ./venv/lib/python3.8/site-packages (4.7.1)\r\n",
      "Requirement already satisfied: wget in ./venv/lib/python3.8/site-packages (3.2)\r\n",
      "Requirement already satisfied: requests<3.0,>=2.0 in ./venv/lib/python3.8/site-packages (from ibm_watson) (2.24.0)\r\n",
      "Requirement already satisfied: python_dateutil>=2.5.3 in ./venv/lib/python3.8/site-packages (from ibm_watson) (2.8.1)\r\n",
      "Requirement already satisfied: websocket-client==0.48.0 in ./venv/lib/python3.8/site-packages (from ibm_watson) (0.48.0)\r\n",
      "Requirement already satisfied: ibm_cloud_sdk_core==1.7.3 in ./venv/lib/python3.8/site-packages (from ibm_watson) (1.7.3)\r\n",
      "Requirement already satisfied: chardet<4,>=3.0.2 in ./venv/lib/python3.8/site-packages (from requests<3.0,>=2.0->ibm_watson) (3.0.4)\r\n",
      "Requirement already satisfied: urllib3!=1.25.0,!=1.25.1,<1.26,>=1.21.1 in ./venv/lib/python3.8/site-packages (from requests<3.0,>=2.0->ibm_watson) (1.25.10)\r\n",
      "Requirement already satisfied: certifi>=2017.4.17 in ./venv/lib/python3.8/site-packages (from requests<3.0,>=2.0->ibm_watson) (2020.6.20)\r\n",
      "Requirement already satisfied: idna<3,>=2.5 in ./venv/lib/python3.8/site-packages (from requests<3.0,>=2.0->ibm_watson) (2.10)\r\n",
      "Requirement already satisfied: six>=1.5 in ./venv/lib/python3.8/site-packages (from python_dateutil>=2.5.3->ibm_watson) (1.15.0)\r\n",
      "Requirement already satisfied: PyJWT>=1.7.1 in ./venv/lib/python3.8/site-packages (from ibm_cloud_sdk_core==1.7.3->ibm_watson) (1.7.1)\r\n"
     ],
     "output_type": "stream"
    }
   ],
   "source": [
    "#Import API\n",
    "\n",
    "!pip install ibm_watson wget\n",
    "from ibm_watson import SpeechToTextV1\n",
    "import json\n",
    "from ibm_cloud_sdk_core.authenticators import IAMAuthenticator"
   ]
  },
  {
   "cell_type": "code",
   "execution_count": 36,
   "outputs": [],
   "source": [
    "#API url and key\n",
    "\n",
    "url_s2t = \"https://api.jp-tok.speech-to-text.watson.cloud.ibm.com/instances/3fac1e48-25d6-478c-ba2c-f687af5fa5d6\"\n",
    "iam_apikey_s2t = 'ZpYy6xa-ooBB2gaEAq0THnd4vMGnFSY_PJuPVqgVQYjn'"
   ],
   "metadata": {
    "collapsed": false,
    "pycharm": {
     "name": "#%%\n",
     "is_executing": false
    }
   }
  },
  {
   "cell_type": "code",
   "execution_count": 37,
   "outputs": [
    {
     "data": {
      "text/plain": "<ibm_watson.speech_to_text_v1_adapter.SpeechToTextV1Adapter at 0x7f891a3b1040>"
     },
     "metadata": {},
     "output_type": "execute_result",
     "execution_count": 37
    }
   ],
   "source": [
    "#Creat speak-text object\n",
    "\n",
    "authenticator = IAMAuthenticator(iam_apikey_s2t)\n",
    "s2t = SpeechToTextV1(authenticator=authenticator)\n",
    "s2t.set_service_url(url_s2t)\n",
    "s2t\n"
   ],
   "metadata": {
    "collapsed": false,
    "pycharm": {
     "name": "#%%\n",
     "is_executing": false
    }
   }
  },
  {
   "cell_type": "code",
   "execution_count": null,
   "outputs": [],
   "source": [
    "filename = 'PolynomialRegressionandPipelines.mp3'\n",
    "with open(filename, mode=\"rb\")  as wav:\n",
    "    response = s2t.recognize(audio=wav, content_type='audio/mp3')\n",
    "response.result"
   ],
   "metadata": {
    "collapsed": false,
    "pycharm": {
     "name": "#%%\n",
     "is_executing": true
    }
   }
  },
  {
   "cell_type": "code",
   "execution_count": null,
   "outputs": [],
   "source": [
    "from pandas.io.json import json_normalize\n",
    "\n",
    "json_normalize(response.result['results'],\"alternatives\")\n",
    "\n",
    "response"
   ],
   "metadata": {
    "collapsed": false,
    "pycharm": {
     "name": "#%%\n",
     "is_executing": true
    }
   }
  },
  {
   "cell_type": "code",
   "execution_count": null,
   "outputs": [],
   "source": [
    "recognized_text=response.result['results'][0][\"alternatives\"][0][\"transcript\"]\n",
    "type(recognized_text)\n"
   ],
   "metadata": {
    "collapsed": false,
    "pycharm": {
     "name": "#%%\n",
     "is_executing": true
    }
   }
  }
 ],
 "metadata": {
  "kernelspec": {
   "display_name": "Python 3",
   "language": "python",
   "name": "python3"
  },
  "language_info": {
   "codemirror_mode": {
    "name": "ipython",
    "version": 2
   },
   "file_extension": ".py",
   "mimetype": "text/x-python",
   "name": "python",
   "nbconvert_exporter": "python",
   "pygments_lexer": "ipython2",
   "version": "2.7.6"
  },
  "pycharm": {
   "stem_cell": {
    "cell_type": "raw",
    "source": [],
    "metadata": {
     "collapsed": false
    }
   }
  }
 },
 "nbformat": 4,
 "nbformat_minor": 0
}